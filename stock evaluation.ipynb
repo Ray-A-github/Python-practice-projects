{
  "nbformat": 4,
  "nbformat_minor": 0,
  "metadata": {
    "colab": {
      "name": "第六回Extra.ipynb",
      "provenance": [],
      "authorship_tag": "ABX9TyOZIWv+/Szdl2ciBA5qR7tk",
      "include_colab_link": true
    },
    "kernelspec": {
      "name": "python3",
      "display_name": "Python 3"
    },
    "language_info": {
      "name": "python"
    }
  },
  "cells": [
    {
      "cell_type": "markdown",
      "metadata": {
        "id": "view-in-github",
        "colab_type": "text"
      },
      "source": [
        "<a href=\"https://colab.research.google.com/github/Ray-A-github/Python-practice-projects/blob/main/stock%20evaluation.ipynb\" target=\"_parent\"><img src=\"https://colab.research.google.com/assets/colab-badge.svg\" alt=\"Open In Colab\"/></a>"
      ]
    },
    {
      "cell_type": "code",
      "metadata": {
        "id": "knB72NnSTevG",
        "colab": {
          "base_uri": "https://localhost:8080/"
        },
        "outputId": "69ee1cd8-aee4-4ec4-e0ea-534f51c7c9f3"
      },
      "source": [
        "class Stock:\n",
        "    def __init__(self, name, currentprice, growthrate, eps): #株クラス\n",
        "        self.name = name                 #株の名前プロパティ\n",
        "        self.currentprice = currentprice #株の現在の値段プロパティ\n",
        "        self.growthrate = growthrate     #会社の成長率プロパティ\n",
        "        self.eps = eps                   #現在の利益割る株数プロパティ\n",
        "\n",
        "def fairvalue(stock): #今現在の株の価値\n",
        "  return futureprice(futureeps, futurePE) / 8\n",
        "\n",
        "def futureeps(eps, growthrate): #未来の利益割る株数\n",
        "  return eps * (1 + stock.growthrate) ** 10\n",
        "\n",
        "def futurePE (eps): #未来の値段割る利益\n",
        "  return eps * 2\n",
        "\n",
        "def futureprice(fpe, fPE): #未来の株価予想\n",
        "  return round(futureeps(stock.eps, stock.growthrate) * futurePE (stock.eps), 2)\n",
        "\n",
        "    \n",
        "a = Stock('google', 2641, 0.2, 35)             #グーグルインスタンス\n",
        "b = Stock('facebook', 347.63, 0.23, 11.67)     #フェイスブックインスタンス\n",
        "c = Stock('apple', 150, 0.18, 4.45)            #アップルインスタンス\n",
        "test = Stock('great stock', 100, 1.5, 50)      #とても利益の出るテスト株インスタンス\n",
        "\n",
        "\n",
        "sharelist = [a, b, c, test] #株式リスト\n",
        "\n",
        "#表示部\n",
        "for stock in sharelist:\n",
        "    if stock.currentprice < fairvalue(stock):\n",
        "        print(F'''Buy this stock becaus the future price is {futureprice(futureeps, futurePE)}''')\n",
        "    else:\n",
        "        print(F'''Do not buy this stock because the future price is {futureprice(futureeps, futurePE)}''')"
      ],
      "execution_count": null,
      "outputs": [
        {
          "output_type": "stream",
          "text": [
            "Do not buy this stock because the future price is 15169.75\n",
            "Do not buy this stock because the future price is 2158.85\n",
            "Do not buy this stock because the future price is 207.29\n",
            "Buy this stock becaus the future price is 47683715.82\n"
          ],
          "name": "stdout"
        }
      ]
    }
  ]
}