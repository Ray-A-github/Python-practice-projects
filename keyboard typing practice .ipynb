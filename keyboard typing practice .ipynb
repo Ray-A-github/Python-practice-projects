{
  "nbformat": 4,
  "nbformat_minor": 0,
  "metadata": {
    "colab": {
      "name": "第八回課題.ipynb",
      "provenance": [],
      "authorship_tag": "ABX9TyNZUGt6tf8QIetX4D7L/DbK",
      "include_colab_link": true
    },
    "kernelspec": {
      "name": "python3",
      "display_name": "Python 3"
    },
    "language_info": {
      "name": "python"
    }
  },
  "cells": [
    {
      "cell_type": "markdown",
      "metadata": {
        "id": "view-in-github",
        "colab_type": "text"
      },
      "source": [
        "<a href=\"https://colab.research.google.com/github/Ray-A-github/Python-practice-projects/blob/main/keyboard%20typing%20practice%20.ipynb\" target=\"_parent\"><img src=\"https://colab.research.google.com/assets/colab-badge.svg\" alt=\"Open In Colab\"/></a>"
      ]
    },
    {
      "cell_type": "code",
      "metadata": {
        "colab": {
          "base_uri": "https://localhost:8080/"
        },
        "id": "SsZCeSFNv1-p",
        "outputId": "4fa996ad-5af2-44f4-9dd1-b87648e1035e"
      },
      "source": [
        "import random\n",
        "\n",
        "Dictionary = { \n",
        "'autonomous': '自治の，自立した，自主的な','autopsy':'米》検死，死体解剖','auxiliary':'補助の，補助的な ｜ 補助者',\n",
        "'avid':'熱心な，貪欲な','blurb':'宣伝文','bogus':'偽の，いんちきの','bolster':'支持する，支える ｜ 長枕',\n",
        "'bombard':'爆撃する，（質問などで）攻め立てる','bona fide':'真実の，正真正銘の',\n",
        "'bourgeois':'中産階級の','brandish':'（剣など）を振り回す，振りかざす','cartilage':'軟骨',\n",
        "'cash in on':'～に乗じる，を利用する','categorical':'断言的な，明確な',\n",
        "'causative':'原因となる，《文法》使役の','celestial':'天の，天上の，神々しい','chasten':'懲らしめる',\n",
        "'defy':\t'～を無視する','delinquent':\t'怠慢な','delve into':\t'～を掘り下げる',\n",
        "'demean':\t'～の品位を下げる','demote':\t'～を降格させる','demure':\t'控え目な',\n",
        "'denote':\t'～を意味する','denounce':\t'～を告発する','depict':\t'～を描く',\n",
        "}\n",
        "\n",
        "n = -1\n",
        "while True :\n",
        "    n = n +1 \n",
        "    en = F'{random.choice(list(Dictionary.keys()))}'\n",
        "    print('Question:'+ en)\n",
        "    answer = input('practice:' )\n",
        "    if en == answer:\n",
        "      print(F'''correct!  \n",
        "{Dictionary[en]}\n",
        "''')\n",
        "    else:\n",
        "        break\n",
        "if n == 0:\n",
        "    print(F'''\n",
        "    \n",
        "You better put some more effort in :p''')\n",
        "else:\n",
        "    print(F'''\n",
        "Well done! You have typed {n} words correctly!!''')\n"
      ],
      "execution_count": null,
      "outputs": [
        {
          "output_type": "stream",
          "text": [
            "Question:avid\n",
            "practice:avid\n",
            "correct!  \n",
            "熱心な，貪欲な\n",
            "\n",
            "Question:auxiliary\n",
            "practice:asd\n",
            "\n",
            "Well done! You have typed 1 words correctry!!\n"
          ],
          "name": "stdout"
        }
      ]
    }
  ]
}