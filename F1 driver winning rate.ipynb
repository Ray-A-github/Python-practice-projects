{
  "nbformat": 4,
  "nbformat_minor": 0,
  "metadata": {
    "colab": {
      "name": "第六回課題.ipynb",
      "provenance": [],
      "authorship_tag": "ABX9TyOcdzTOe99RHliWDQL2kwlo",
      "include_colab_link": true
    },
    "kernelspec": {
      "name": "python3",
      "display_name": "Python 3"
    },
    "language_info": {
      "name": "python"
    }
  },
  "cells": [
    {
      "cell_type": "markdown",
      "metadata": {
        "id": "view-in-github",
        "colab_type": "text"
      },
      "source": [
        "<a href=\"https://colab.research.google.com/github/Ray-A-github/Python-practice-projects/blob/main/F1%20driver%20winning%20rate.ipynb\" target=\"_parent\"><img src=\"https://colab.research.google.com/assets/colab-badge.svg\" alt=\"Open In Colab\"/></a>"
      ]
    },
    {
      "cell_type": "code",
      "metadata": {
        "colab": {
          "base_uri": "https://localhost:8080/"
        },
        "id": "X2L9Ol6pO-EL",
        "outputId": "60c12161-4374-4075-a3be-6a4923b35eff"
      },
      "source": [
        "class Driver:\n",
        "    def __init__(self, t, n, e, w): #F1ドライバークラス\n",
        "        self.t = t #チームプロパティ\n",
        "        self.n = n #名前プロパティ\n",
        "        self.e = e #出場数プロパティ\n",
        "        self.w = w #勝利数プロパティ\n",
        "\n",
        "def winrate (numrace, numwin):\n",
        "    percentage = numwin / numrace * 100;\n",
        "    return percentage\n",
        "    \n",
        "\n",
        "a = Driver('Redbull', 'Verstappen', 128, 15) # a ドライバーインスタンス\n",
        "b = Driver('Mercedes', 'Hamilton', 275, 98)  # b ドライバーインスタンス\n",
        "c = Driver('Aston Martin','Vettel', 267, 53) # c ドライバーインスタンス\n",
        "driverList = [a, b, c]\n",
        "\n",
        "\n",
        "for driver in driverList:\n",
        "    dstr = F'''{driver.t} driver {driver.n} has won {round(winrate(driver.e, driver.w), 2)} percent of his race'''\n",
        "    print(dstr)\n"
      ],
      "execution_count": null,
      "outputs": [
        {
          "output_type": "stream",
          "text": [
            "Redbull driver Verstappen has won 11.72 percent of his race\n",
            "Mercedes driver Hamilton has won 35.64 percent of his race\n",
            "Aston Martin driver Vettel has won 19.85 percent of his race\n"
          ],
          "name": "stdout"
        }
      ]
    }
  ]
}